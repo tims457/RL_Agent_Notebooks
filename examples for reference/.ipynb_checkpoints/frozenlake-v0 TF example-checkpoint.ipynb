{
 "cells": [
  {
   "cell_type": "markdown",
   "metadata": {
    "_cell_guid": "3c798bcb-e803-4290-8304-60f76d4497cf",
    "_uuid": "917ccf5b79950a9c667608c38025394ad05820aa"
   },
   "source": [
    "# Pytorch RL - 0 - FrozenLake - Q-Network Learning"
   ]
  },
  {
   "cell_type": "code",
   "execution_count": 3,
   "metadata": {
    "_cell_guid": "f3b2f9a8-0dde-41eb-9e3f-0c2214f58d09",
    "_uuid": "c1d57df355219ff0c11cd166d9f5e9c9d8ab9d45",
    "collapsed": false
   },
   "outputs": [],
   "source": [
    "import gym\n",
    "import numpy as np \n",
    "import torch\n",
    "from torch import nn\n",
    "from torch.autograd import Variable\n",
    "from torch import optim\n",
    "from torch.nn import functional as F\n",
    "import matplotlib.pyplot as plt\n",
    "%matplotlib inline"
   ]
  },
  {
   "cell_type": "markdown",
   "metadata": {
    "_cell_guid": "9790a387-b767-4ec0-ab90-0294dec735f1",
    "_uuid": "e510afbb935979f67743242e0711a78842340694"
   },
   "source": [
    "## 1. Define one_hot encoding function, and uniform initializer for linear layer"
   ]
  },
  {
   "cell_type": "code",
   "execution_count": 4,
   "metadata": {
    "_cell_guid": "115ac345-d800-474d-9d36-1e6a6115c689",
    "_uuid": "b12c9aeea1bfd0f4cdb1c24b3e386c6a8a1b6d18",
    "collapsed": true
   },
   "outputs": [],
   "source": [
    "def one_hot(ids, nb_digits):\n",
    "    \"\"\"\n",
    "    ids: (list, ndarray) shape:[batch_size]\n",
    "    \"\"\"\n",
    "    if not isinstance(ids, (list, np.ndarray)):\n",
    "        raise ValueError(\"ids must be 1-D list or array\")\n",
    "    batch_size = len(ids)\n",
    "    ids = torch.LongTensor(ids).view(batch_size, 1)\n",
    "    out_tensor = Variable(torch.FloatTensor(batch_size, nb_digits))\n",
    "    out_tensor.data.zero_()\n",
    "    out_tensor.data.scatter_(dim=1, index=ids, value=1.)\n",
    "    return out_tensor\n",
    "\n",
    "def uniform_linear_layer(linear_layer):\n",
    "    linear_layer.weight.data.uniform_()\n",
    "    linear_layer.bias.data.fill_(-0.02)"
   ]
  },
  {
   "cell_type": "markdown",
   "metadata": {
    "_cell_guid": "71068ae1-00b7-42ab-acb7-a95c4dacb0db",
    "_uuid": "19a5457a2483d56a7d51b0ad7f547061049ec643"
   },
   "source": [
    "## 2. Create a FrozenLake environment"
   ]
  },
  {
   "cell_type": "code",
   "execution_count": 6,
   "metadata": {
    "_cell_guid": "39cc68e3-0c27-4f80-9467-8d68df3f7e27",
    "_uuid": "a2a04c5acb8aa30081739af5a50f2c93380c7695",
    "collapsed": false
   },
   "outputs": [],
   "source": [
    "lake = gym.make('FrozenLake-v0')"
   ]
  },
  {
   "cell_type": "code",
   "execution_count": 7,
   "metadata": {
    "_cell_guid": "e5723d66-fa9f-416c-8757-539349ad7ad4",
    "_uuid": "d7e38265ae52aa9d9b9781f9702172a3e0a57681",
    "collapsed": false,
    "scrolled": true
   },
   "outputs": [
    {
     "name": "stdout",
     "output_type": "stream",
     "text": [
      "\n",
      "\u001b[41mS\u001b[0mFFF\n",
      "FHFH\n",
      "FFFH\n",
      "HFFG\n"
     ]
    }
   ],
   "source": [
    "lake.reset()\n",
    "lake.render()"
   ]
  },
  {
   "cell_type": "markdown",
   "metadata": {
    "_cell_guid": "3d465d77-2db1-4cb0-8693-3cdb8b4f4c96",
    "_uuid": "4b790aa97755afdd9b675266999643c6f2f7b6f8"
   },
   "source": [
    "## 3. Define Agent model, basically for Q values"
   ]
  },
  {
   "cell_type": "code",
   "execution_count": 8,
   "metadata": {
    "_cell_guid": "279ca5c7-10a2-44cb-8874-07967e5ffbaf",
    "_uuid": "92acbd3b8dcf2c868eb50e6edf7b3167bd6a67a4",
    "collapsed": true
   },
   "outputs": [],
   "source": [
    "class Agent(nn.Module):\n",
    "    def __init__(self, observation_space_size, action_space_size):\n",
    "        super(Agent, self).__init__()\n",
    "        self.observation_space_size = observation_space_size\n",
    "        self.hidden_size = observation_space_size\n",
    "        self.l1 = nn.Linear(in_features=observation_space_size, out_features=self.hidden_size)\n",
    "        self.l2 = nn.Linear(in_features=self.hidden_size, out_features=action_space_size)\n",
    "        uniform_linear_layer(self.l1)\n",
    "        uniform_linear_layer(self.l2)\n",
    "    \n",
    "    def forward(self, state):\n",
    "        obs_emb = one_hot([int(state)], self.observation_space_size)\n",
    "        out1 = F.sigmoid(self.l1(obs_emb))\n",
    "        return self.l2(out1).view((-1)) # 1 x ACTION_SPACE_SIZE == 1 x 4  =>  4"
   ]
  },
  {
   "cell_type": "markdown",
   "metadata": {
    "_cell_guid": "e4cb36b7-2625-4f88-ac64-5ce8f353c111",
    "_uuid": "8229f6bbec3054051b3f15343849a3d0ab681589"
   },
   "source": [
    "## 4. Define the Trainer to optimize Agent model"
   ]
  },
  {
   "cell_type": "code",
   "execution_count": 13,
   "metadata": {
    "_cell_guid": "f96d1f89-b857-49ef-ac68-521890dd1f2a",
    "_uuid": "c5cc5698cc8480cc7b75de6c815e1db1b195fdc1",
    "collapsed": true
   },
   "outputs": [],
   "source": [
    "class Trainer:\n",
    "    def __init__(self):\n",
    "        self.agent = Agent(lake.observation_space.n, lake.action_space.n)\n",
    "        self.optimizer = optim.Adam(params=self.agent.parameters())\n",
    "        self.success = []\n",
    "        self.jList = []\n",
    "    \n",
    "    def train(self, epoch):\n",
    "        for i in range(epoch):\n",
    "            s = lake.reset()\n",
    "            j = 0\n",
    "            while j < 100:\n",
    "                \n",
    "                # perform chosen action\n",
    "                a = self.choose_action(s)\n",
    "                s1, r, d, _ = lake.step(a)\n",
    "                if d == True and r == 0: r = -1\n",
    "                \n",
    "                # calculate target and loss\n",
    "                target_q = r + 0.99 * torch.max(self.agent(s1).detach()) # detach from the computing flow\n",
    "                loss = F.smooth_l1_loss(self.agent(s)[a], target_q)\n",
    "                \n",
    "                # update model to optimize Q\n",
    "                self.optimizer.zero_grad()\n",
    "                loss.backward()\n",
    "                self.optimizer.step()\n",
    "                \n",
    "                # update state\n",
    "                s = s1\n",
    "                j += 1\n",
    "                if d == True: break\n",
    "            \n",
    "            # append results onto report lists\n",
    "            if d == True and r > 0:\n",
    "                self.success.append(1)\n",
    "            else:\n",
    "                self.success.append(0)\n",
    "            self.jList.append(j)\n",
    "        print(\"last 100 epoches success rate: \" + str(sum(self.success[-100:])) + \"%\")\n",
    "\n",
    "    def choose_action(self, s):\n",
    "        if (np.random.rand(1) < 0.1): \n",
    "            return lake.action_space.sample()\n",
    "        else:\n",
    "            agent_out = self.agent(s).detach()\n",
    "            _, max_index = torch.max(agent_out, 0)\n",
    "            return max_index.data.numpy()[0]"
   ]
  },
  {
   "cell_type": "markdown",
   "metadata": {
    "_cell_guid": "91eb6ba2-c838-4c5f-9104-5bed78356b38",
    "_uuid": "e33d6fd82855c36e932f3c45dc82e6c20f4e504d"
   },
   "source": [
    "## 5. Initialize a trainer, and perform training by 2k epoches"
   ]
  },
  {
   "cell_type": "code",
   "execution_count": 14,
   "metadata": {
    "_cell_guid": "f1f88333-999d-420b-a138-46d2fba470b7",
    "_uuid": "c411997e3520770146dfe8345793c174e5ad2a76",
    "collapsed": false
   },
   "outputs": [
    {
     "name": "stdout",
     "output_type": "stream",
     "text": [
      "last 100 epoches success rate: 6%\n"
     ]
    }
   ],
   "source": [
    "t = Trainer()\n",
    "t.train(2000)"
   ]
  },
  {
   "cell_type": "markdown",
   "metadata": {
    "_cell_guid": "8d954279-8198-4505-a303-bb643275a4e7",
    "_uuid": "358727a094c2923ccf3696c0eab3ea980eb2f42c"
   },
   "source": [
    "## 6. Plot success rate tendency"
   ]
  },
  {
   "cell_type": "code",
   "execution_count": 15,
   "metadata": {
    "_cell_guid": "81441caa-9b5e-4280-94b3-f16f8149fcc7",
    "_uuid": "e20d85430c4560c2d8f9febd7dca3cec49b49aa1",
    "collapsed": false,
    "scrolled": true
   },
   "outputs": [
    {
     "data": {
      "text/plain": [
       "[<matplotlib.lines.Line2D at 0x114fc6198>]"
      ]
     },
     "execution_count": 15,
     "metadata": {},
     "output_type": "execute_result"
    },
    {
     "data": {
      "image/png": "[encoded data removed]",
      "text/plain": [
       "<matplotlib.figure.Figure at 0x1132ef6a0>"
      ]
     },
     "metadata": {},
     "output_type": "display_data"
    }
   ],
   "source": [
    "plt.plot(t.success)"
   ]
  },
  {
   "cell_type": "markdown",
   "metadata": {
    "_cell_guid": "6059d03a-b0b2-4b28-948c-ca49ba049d5b",
    "_uuid": "623b0907359066368a86cc482efc1716b5881d49"
   },
   "source": [
    "## 7. Plot agent persisting times on the lake"
   ]
  },
  {
   "cell_type": "code",
   "execution_count": 16,
   "metadata": {
    "_cell_guid": "2251fce3-335f-4d41-bdce-81c5175e2b5a",
    "_uuid": "b3fe47b39b8b6a38a13b1c75c3bfa0304c2c3421",
    "collapsed": false
   },
   "outputs": [
    {
     "data": {
      "text/plain": [
       "[<matplotlib.lines.Line2D at 0x1158235c0>]"
      ]
     },
     "execution_count": 16,
     "metadata": {},
     "output_type": "execute_result"
    },
    {
     "data": {
      "image/png": "[encoded data removed]",
      "text/plain": [
       "<matplotlib.figure.Figure at 0x114fcf748>"
      ]
     },
     "metadata": {},
     "output_type": "display_data"
    }
   ],
   "source": [
    "plt.plot(t.jList)"
   ]
  },
  {
   "cell_type": "code",
   "execution_count": null,
   "metadata": {
    "collapsed": true
   },
   "outputs": [],
   "source": []
  }
 ],
 "metadata": {
  "kernelspec": {
   "display_name": "Python 3",
   "language": "python",
   "name": "python3"
  },
  "language_info": {
   "codemirror_mode": {
    "name": "ipython",
    "version": 3
   },
   "file_extension": ".py",
   "mimetype": "text/x-python",
   "name": "python",
   "nbconvert_exporter": "python",
   "pygments_lexer": "ipython3",
   "version": "3.5.2"
  }
 },
 "nbformat": 4,
 "nbformat_minor": 1
}
